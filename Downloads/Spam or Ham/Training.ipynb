{
 "cells": [
  {
   "cell_type": "code",
   "execution_count": 142,
   "id": "ff0843c6-a861-4e20-9779-52eeb32a0a61",
   "metadata": {},
   "outputs": [],
   "source": [
    "# Avoid warnings\n",
    "import warnings\n",
    "warnings.filterwarnings(\"ignore\")"
   ]
  },
  {
   "cell_type": "markdown",
   "id": "01dbe047",
   "metadata": {},
   "source": [
    "# Spam or Ham Detection using Machine Learning\n",
    "### **Project Overview: Spam or Ham Detection using Machine Learning**  \n",
    "The objective of this project is to build a machine learning model that can classify messages as either spam or ham. The model is trained using a dataset containing labeled messages, where each message is categorized as spam or ham. By analyzing features like word frequency, message length, and special characters, the model learns patterns that help in automatic classification.  \n",
    "\n"
   ]
  },
  {
   "cell_type": "markdown",
   "id": "c7646343-86bb-4724-9d88-deecc0eb7f49",
   "metadata": {},
   "source": [
    "## _Project Methodology_\n",
    "**CRISP-ML(Q) : Cross-Industry Standard Process for the development of Machine Learning applications with Quality assurance methodology.**\n",
    "- *Business Understanding*\n",
    "- *Data Preparation* (Data Cleaning, EDA, Feature Engineering)\n",
    "- *Model Building*\n",
    "- *Model Evaluation*\n",
    "- *Model Deployment*\n",
    "- *Model Management*\n",
    "  "
   ]
  },
  {
   "cell_type": "markdown",
   "id": "ea032d51-3085-4a25-ad5e-4b0498025653",
   "metadata": {},
   "source": [
    "### Data Understanding:-\n",
    "- **Category** : It contails the label(output) of each record(**spam** & **ham**).\n",
    "  - **Spam** refers to unsolicited, irrelevant, or inappropriate messages, often sent in bulk, typically for advertising, phishing, or spreading malware. Common examples include spam emails, promotional messages, and scam texts.  \n",
    "  - **Ham** refers to legitimate, non-spam messages. These are genuine emails or texts from trusted sources that are relevant to the recipient.  \n",
    "\n",
    "- **Message** :It contains the text.\n",
    "  "
   ]
  },
  {
   "cell_type": "markdown",
   "id": "874bb93f-f611-477a-9baf-803b2983f7a5",
   "metadata": {},
   "source": [
    "### Data Preparation "
   ]
  },
  {
   "cell_type": "markdown",
   "id": "d0d481f6-8fd7-4076-b274-9507ea72f663",
   "metadata": {},
   "source": [
    "#### Data Cleaning\n"
   ]
  },
  {
   "cell_type": "code",
   "execution_count": 216,
   "id": "64f895dd-7cc6-4271-9708-e3082a715c8b",
   "metadata": {},
   "outputs": [],
   "source": [
    "# Required Models for Data Cleaning\n",
    "\n",
    "import pandas as pd\n",
    "import numpy as np"
   ]
  },
  {
   "cell_type": "code",
   "execution_count": 217,
   "id": "4b9e1c76-d512-4bb5-acae-fcd086f2d820",
   "metadata": {},
   "outputs": [],
   "source": [
    "# Load Data\n",
    "data = pd.read_csv(r\"../Data/spam.csv\")"
   ]
  },
  {
   "cell_type": "code",
   "execution_count": 218,
   "id": "0605f896",
   "metadata": {},
   "outputs": [
    {
     "data": {
      "text/html": [
       "<div>\n",
       "<style scoped>\n",
       "    .dataframe tbody tr th:only-of-type {\n",
       "        vertical-align: middle;\n",
       "    }\n",
       "\n",
       "    .dataframe tbody tr th {\n",
       "        vertical-align: top;\n",
       "    }\n",
       "\n",
       "    .dataframe thead th {\n",
       "        text-align: right;\n",
       "    }\n",
       "</style>\n",
       "<table border=\"1\" class=\"dataframe\">\n",
       "  <thead>\n",
       "    <tr style=\"text-align: right;\">\n",
       "      <th></th>\n",
       "      <th>Category</th>\n",
       "      <th>Message</th>\n",
       "    </tr>\n",
       "  </thead>\n",
       "  <tbody>\n",
       "    <tr>\n",
       "      <th>0</th>\n",
       "      <td>ham</td>\n",
       "      <td>Go until jurong point, crazy.. Available only ...</td>\n",
       "    </tr>\n",
       "    <tr>\n",
       "      <th>1</th>\n",
       "      <td>ham</td>\n",
       "      <td>Ok lar... Joking wif u oni...</td>\n",
       "    </tr>\n",
       "    <tr>\n",
       "      <th>2</th>\n",
       "      <td>spam</td>\n",
       "      <td>Free entry in 2 a wkly comp to win FA Cup fina...</td>\n",
       "    </tr>\n",
       "    <tr>\n",
       "      <th>3</th>\n",
       "      <td>ham</td>\n",
       "      <td>U dun say so early hor... U c already then say...</td>\n",
       "    </tr>\n",
       "    <tr>\n",
       "      <th>4</th>\n",
       "      <td>ham</td>\n",
       "      <td>Nah I don't think he goes to usf, he lives aro...</td>\n",
       "    </tr>\n",
       "    <tr>\n",
       "      <th>...</th>\n",
       "      <td>...</td>\n",
       "      <td>...</td>\n",
       "    </tr>\n",
       "    <tr>\n",
       "      <th>5567</th>\n",
       "      <td>spam</td>\n",
       "      <td>This is the 2nd time we have tried 2 contact u...</td>\n",
       "    </tr>\n",
       "    <tr>\n",
       "      <th>5568</th>\n",
       "      <td>ham</td>\n",
       "      <td>Will ü b going to esplanade fr home?</td>\n",
       "    </tr>\n",
       "    <tr>\n",
       "      <th>5569</th>\n",
       "      <td>ham</td>\n",
       "      <td>Pity, * was in mood for that. So...any other s...</td>\n",
       "    </tr>\n",
       "    <tr>\n",
       "      <th>5570</th>\n",
       "      <td>ham</td>\n",
       "      <td>The guy did some bitching but I acted like i'd...</td>\n",
       "    </tr>\n",
       "    <tr>\n",
       "      <th>5571</th>\n",
       "      <td>ham</td>\n",
       "      <td>Rofl. Its true to its name</td>\n",
       "    </tr>\n",
       "  </tbody>\n",
       "</table>\n",
       "<p>5572 rows × 2 columns</p>\n",
       "</div>"
      ],
      "text/plain": [
       "     Category                                            Message\n",
       "0         ham  Go until jurong point, crazy.. Available only ...\n",
       "1         ham                      Ok lar... Joking wif u oni...\n",
       "2        spam  Free entry in 2 a wkly comp to win FA Cup fina...\n",
       "3         ham  U dun say so early hor... U c already then say...\n",
       "4         ham  Nah I don't think he goes to usf, he lives aro...\n",
       "...       ...                                                ...\n",
       "5567     spam  This is the 2nd time we have tried 2 contact u...\n",
       "5568      ham               Will ü b going to esplanade fr home?\n",
       "5569      ham  Pity, * was in mood for that. So...any other s...\n",
       "5570      ham  The guy did some bitching but I acted like i'd...\n",
       "5571      ham                         Rofl. Its true to its name\n",
       "\n",
       "[5572 rows x 2 columns]"
      ]
     },
     "execution_count": 218,
     "metadata": {},
     "output_type": "execute_result"
    }
   ],
   "source": [
    "data"
   ]
  },
  {
   "cell_type": "code",
   "execution_count": 219,
   "id": "fc27d316-fbd8-4af4-9ecd-d600444513ee",
   "metadata": {},
   "outputs": [
    {
     "data": {
      "text/plain": [
       "(5572, 2)"
      ]
     },
     "execution_count": 219,
     "metadata": {},
     "output_type": "execute_result"
    }
   ],
   "source": [
    "# Shape of the data.\n",
    "\n",
    "data.shape"
   ]
  },
  {
   "cell_type": "code",
   "execution_count": 220,
   "id": "9cec6285-8345-41ff-9592-d4dc79551c37",
   "metadata": {},
   "outputs": [
    {
     "data": {
      "text/plain": [
       "415"
      ]
     },
     "execution_count": 220,
     "metadata": {},
     "output_type": "execute_result"
    }
   ],
   "source": [
    "# Check Duplicate Records.\n",
    "\n",
    "data.duplicated().sum()"
   ]
  },
  {
   "cell_type": "markdown",
   "id": "93f4da48-7469-426d-8103-7fa32d693324",
   "metadata": {},
   "source": [
    "There are **415** Duplicate values in text column."
   ]
  },
  {
   "cell_type": "code",
   "execution_count": 221,
   "id": "9d181ff6-a495-4769-ad9e-0bbf2647eb8f",
   "metadata": {},
   "outputs": [],
   "source": [
    "# Drop Duplicate values.\n",
    "\n",
    "data = data.loc[(~data[\"Message\"].duplicated())]"
   ]
  },
  {
   "cell_type": "code",
   "execution_count": 222,
   "id": "aa1cf815-2904-4f88-a35a-5f2bef6a0bf5",
   "metadata": {},
   "outputs": [
    {
     "data": {
      "text/plain": [
       "Category    0\n",
       "Message     0\n",
       "dtype: int64"
      ]
     },
     "execution_count": 222,
     "metadata": {},
     "output_type": "execute_result"
    }
   ],
   "source": [
    "# Cheack for NAN Values.\n",
    "\n",
    "data.isna().sum()"
   ]
  },
  {
   "cell_type": "markdown",
   "id": "6c7bbc01-f681-4dab-ba05-bb9dc1b25e01",
   "metadata": {},
   "source": [
    "There are no NAN Values in Data set."
   ]
  },
  {
   "cell_type": "markdown",
   "id": "182fe267-d9a9-4f9e-83ba-53a55c9408e6",
   "metadata": {},
   "source": [
    "#### EDA (Exploratory Data Analysis)"
   ]
  },
  {
   "cell_type": "code",
   "execution_count": 223,
   "id": "39a75dd9-f19b-450d-8191-c040fd04292f",
   "metadata": {},
   "outputs": [],
   "source": [
    "# Importing Visulization Moules.\n",
    "import matplotlib.pyplot as plt\n",
    "import seaborn as sns"
   ]
  },
  {
   "cell_type": "code",
   "execution_count": 224,
   "id": "3e262325-39ba-4190-a1d6-9e4e28840be5",
   "metadata": {},
   "outputs": [
    {
     "data": {
      "text/plain": [
       "(5157, 2)"
      ]
     },
     "execution_count": 224,
     "metadata": {},
     "output_type": "execute_result"
    }
   ],
   "source": [
    "\n",
    "data.shape"
   ]
  },
  {
   "cell_type": "code",
   "execution_count": 225,
   "id": "4c7f74d6-1cb6-4d75-911e-0521982940e7",
   "metadata": {},
   "outputs": [
    {
     "data": {
      "text/html": [
       "<div>\n",
       "<style scoped>\n",
       "    .dataframe tbody tr th:only-of-type {\n",
       "        vertical-align: middle;\n",
       "    }\n",
       "\n",
       "    .dataframe tbody tr th {\n",
       "        vertical-align: top;\n",
       "    }\n",
       "\n",
       "    .dataframe thead th {\n",
       "        text-align: right;\n",
       "    }\n",
       "</style>\n",
       "<table border=\"1\" class=\"dataframe\">\n",
       "  <thead>\n",
       "    <tr style=\"text-align: right;\">\n",
       "      <th></th>\n",
       "      <th>Category</th>\n",
       "      <th>Message</th>\n",
       "    </tr>\n",
       "  </thead>\n",
       "  <tbody>\n",
       "    <tr>\n",
       "      <th>0</th>\n",
       "      <td>ham</td>\n",
       "      <td>Go until jurong point, crazy.. Available only ...</td>\n",
       "    </tr>\n",
       "    <tr>\n",
       "      <th>1</th>\n",
       "      <td>ham</td>\n",
       "      <td>Ok lar... Joking wif u oni...</td>\n",
       "    </tr>\n",
       "    <tr>\n",
       "      <th>2</th>\n",
       "      <td>spam</td>\n",
       "      <td>Free entry in 2 a wkly comp to win FA Cup fina...</td>\n",
       "    </tr>\n",
       "    <tr>\n",
       "      <th>3</th>\n",
       "      <td>ham</td>\n",
       "      <td>U dun say so early hor... U c already then say...</td>\n",
       "    </tr>\n",
       "    <tr>\n",
       "      <th>4</th>\n",
       "      <td>ham</td>\n",
       "      <td>Nah I don't think he goes to usf, he lives aro...</td>\n",
       "    </tr>\n",
       "  </tbody>\n",
       "</table>\n",
       "</div>"
      ],
      "text/plain": [
       "  Category                                            Message\n",
       "0      ham  Go until jurong point, crazy.. Available only ...\n",
       "1      ham                      Ok lar... Joking wif u oni...\n",
       "2     spam  Free entry in 2 a wkly comp to win FA Cup fina...\n",
       "3      ham  U dun say so early hor... U c already then say...\n",
       "4      ham  Nah I don't think he goes to usf, he lives aro..."
      ]
     },
     "execution_count": 225,
     "metadata": {},
     "output_type": "execute_result"
    }
   ],
   "source": [
    "data.head()"
   ]
  },
  {
   "cell_type": "code",
   "execution_count": 226,
   "id": "a5508d6d-8d46-441d-9a77-f271304bdbea",
   "metadata": {},
   "outputs": [
    {
     "data": {
      "text/plain": [
       "<Axes: xlabel='Category'>"
      ]
     },
     "execution_count": 226,
     "metadata": {},
     "output_type": "execute_result"
    },
    {
     "data": {
      "image/png": "[encoded data removed]",
      "text/plain": [
       "<Figure size 640x480 with 1 Axes>"
      ]
     },
     "metadata": {},
     "output_type": "display_data"
    }
   ],
   "source": [
    "data[\"Category\"].value_counts().plot(kind='bar')"
   ]
  },
  {
   "cell_type": "code",
   "execution_count": 227,
   "id": "81a10298-1052-4091-8cae-368f78ef6cef",
   "metadata": {},
   "outputs": [
    {
     "name": "stdout",
     "output_type": "stream",
     "text": [
      "<class 'pandas.core.frame.DataFrame'>\n",
      "Index: 5157 entries, 0 to 5571\n",
      "Data columns (total 2 columns):\n",
      " #   Column    Non-Null Count  Dtype \n",
      "---  ------    --------------  ----- \n",
      " 0   Category  5157 non-null   object\n",
      " 1   Message   5157 non-null   object\n",
      "dtypes: object(2)\n",
      "memory usage: 120.9+ KB\n"
     ]
    }
   ],
   "source": [
    "data.info()"
   ]
  },
  {
   "cell_type": "code",
   "execution_count": 228,
   "id": "b0fece1f",
   "metadata": {},
   "outputs": [],
   "source": [
    "label = {}\n",
    "for i,j in enumerate(data['Category'].unique()):\n",
    "    label[j] = i\n",
    "data['Category'] = data['Category'].map(label)"
   ]
  },
  {
   "cell_type": "code",
   "execution_count": 233,
   "id": "e3857dd2",
   "metadata": {},
   "outputs": [
    {
     "data": {
      "text/plain": [
       "{'ham': 0, 'spam': 1}"
      ]
     },
     "execution_count": 233,
     "metadata": {},
     "output_type": "execute_result"
    }
   ],
   "source": [
    "label"
   ]
  },
  {
   "cell_type": "code",
   "execution_count": 235,
   "id": "de6ad620-ec1e-414d-a914-d22fc8cf94cf",
   "metadata": {},
   "outputs": [],
   "source": [
    "ham = data[data['Category'] == 0]\n",
    "spam = data[data['Category'] == 1]\n",
    "ham_sampled = ham.sample(n=len(spam), random_state=42)\n",
    "data = pd.concat([ham_sampled, spam]).sample(frac=1, random_state=42).reset_index(drop=True)\n"
   ]
  },
  {
   "cell_type": "code",
   "execution_count": null,
   "id": "f0c79012-dc59-4b83-ac54-ef403bd1363c",
   "metadata": {},
   "outputs": [],
   "source": []
  },
  {
   "cell_type": "code",
   "execution_count": 236,
   "id": "e5676a88-1a07-47ff-becf-f1720b36b80d",
   "metadata": {},
   "outputs": [
    {
     "name": "stdout",
     "output_type": "stream",
     "text": [
      "|---------------------------------------------------------------------------|\n",
      "|             There are 641 records of Genuine Message. 50.0%               |\n",
      "|---------------------------------------------------------------------------|\n",
      "|                There are 641 records of Spam Message. 50.0%               |\n",
      "|---------------------------------------------------------------------------|\n"
     ]
    }
   ],
   "source": [
    "# Count of genuine and fake news\n",
    "\n",
    "df = data.groupby(\"Category\")[\"Message\"].count()\n",
    "\n",
    "index = df.index\n",
    "\n",
    "print(\"|\"+\"-\"*75+\"|\")\n",
    "\n",
    "\n",
    "for idx, value in zip(index, df):\n",
    "    \n",
    "    if idx == 0:\n",
    "    \n",
    "        print(\"|\"+f\"There are {value} records of Genuine Message. {round((value/len(data)*100),2)}%\".center(74),\"|\")\n",
    "        \n",
    "        print(\"|\"+\"-\"*75+\"|\")\n",
    "    \n",
    "    else:\n",
    "    \n",
    "        print(\"|\",f\"There are {value} records of Spam Message. {round((value/len(data)*100),2)}%\".center(73),\"|\")\n",
    "\n",
    "print(\"|\"+\"-\"*75+\"|\")"
   ]
  },
  {
   "cell_type": "code",
   "execution_count": 237,
   "id": "b9cbf570",
   "metadata": {},
   "outputs": [],
   "source": [
    "from wordcloud import WordCloud\n",
    "import matplotlib.pyplot as plt\n"
   ]
  },
  {
   "cell_type": "code",
   "execution_count": 238,
   "id": "a54455d3",
   "metadata": {},
   "outputs": [
    {
     "data": {
      "text/plain": [
       "<matplotlib.image.AxesImage at 0x1496f136e10>"
      ]
     },
     "execution_count": 238,
     "metadata": {},
     "output_type": "execute_result"
    },
    {
     "data": {
      "image/png": "[encoded data removed]",
      "text/plain": [
       "<Figure size 640x480 with 1 Axes>"
      ]
     },
     "metadata": {},
     "output_type": "display_data"
    }
   ],
   "source": [
    "cloud = WordCloud()\n",
    "text = \" \".join(balanced_data[\"Message\"])\n",
    "img = cloud.generate_from_text(text)\n",
    "plt.imshow(img)"
   ]
  },
  {
   "cell_type": "code",
   "execution_count": null,
   "id": "0847922a",
   "metadata": {},
   "outputs": [],
   "source": []
  },
  {
   "cell_type": "markdown",
   "id": "ea133389-1dec-43ce-8591-c193bd19f0d5",
   "metadata": {},
   "source": [
    "#### Feature Engineering"
   ]
  },
  {
   "cell_type": "markdown",
   "id": "e77d39cd-790b-4aca-bd1a-77f361cde135",
   "metadata": {},
   "source": [
    "    Machine Learning Algorithems accepts only numarical features. In our dataset there are text data in text column. It should be normalized and converted into numarical values(Text Vectorization).\n",
    "**Text Preprocessing :** Converting every words into lowerCase, Stop Words Removal, Stemming and Lemmatization.    \n",
    "**Text Vectorization :** Converted into numarical values using Bag of Word."
   ]
  },
  {
   "cell_type": "markdown",
   "id": "48eba34f-be28-4470-abae-c5858b99e269",
   "metadata": {},
   "source": [
    "##### Text Preprocessing"
   ]
  },
  {
   "cell_type": "code",
   "execution_count": 239,
   "id": "8585a5d4-fa47-4e7a-8492-a96c35796edc",
   "metadata": {},
   "outputs": [],
   "source": [
    "from autocorrect import Speller\n",
    "speller = Speller()\n",
    "\n",
    "from emoji import demojize\n",
    "from contractions import fix\n",
    "from textacy.preprocessing.remove import accents\n",
    "import re\n",
    "\n",
    "from nltk.tokenize import word_tokenize\n",
    "from nltk.corpus import stopwords\n",
    "stopword = stopwords.words(\"english\")\n",
    "\n",
    "from nltk.stem import SnowballStemmer\n",
    "stem = SnowballStemmer(\"english\")\n",
    "\n",
    "# from nltk.stem import PorterStemmer\n",
    "# stem = PorterStemmer()\n",
    "\n",
    "# from nltk.stem import LancasterStemmer\n",
    "# stem = LancasterStemmer()\n",
    "\n",
    "from nltk.stem import WordNetLemmatizer\n",
    "lem = WordNetLemmatizer()\n",
    "\n",
    "def text_pre_processing(text):\n",
    "    # Lower \n",
    "    text = text.lower()\n",
    "    # Auto Correct \n",
    "    text = speller.autocorrect_sentence(text)\n",
    "    # Emoji\n",
    "    text = demojize(text)\n",
    "    # Contractions\n",
    "    text = fix(text)\n",
    "    # Accents\n",
    "    text = accents(text)\n",
    "    # Puncuations\n",
    "    text = re.sub(r\"[^a-z0-9]\",\" \",text)\n",
    "    \n",
    "    #Tokenizing\n",
    "    words = word_tokenize(text)\n",
    "    new_text = []\n",
    "    for word in words:\n",
    "        # Stop Words\n",
    "        if word not in stopword:\n",
    "            word = stem.stem(word)\n",
    "            word = lem.lemmatize(word)\n",
    "            new_text.append(word)\n",
    "    text = \" \".join(new_text)\n",
    "\n",
    "    return text"
   ]
  },
  {
   "cell_type": "code",
   "execution_count": 240,
   "id": "052c52d6-d141-475d-a60e-6240da17e089",
   "metadata": {},
   "outputs": [],
   "source": [
    "data[\"Message\"] = data[\"Message\"].apply(text_pre_processing)"
   ]
  },
  {
   "cell_type": "markdown",
   "id": "202ab392-d1b6-419f-848b-6970cddf426a",
   "metadata": {},
   "source": [
    "##### Text Vectorization"
   ]
  },
  {
   "cell_type": "code",
   "execution_count": 241,
   "id": "49b1647d-f020-41c2-ac5f-1f220e2b2624",
   "metadata": {},
   "outputs": [],
   "source": [
    "from sklearn.model_selection import train_test_split\n",
    "from sklearn.feature_extraction.text import CountVectorizer"
   ]
  },
  {
   "cell_type": "code",
   "execution_count": 242,
   "id": "451f3977-1ad5-4e3d-8a6d-796b9b55fe6d",
   "metadata": {},
   "outputs": [],
   "source": [
    "ml_data = data\n",
    "\n",
    "label= ml_data.iloc[:,0]\n",
    "\n",
    "features = ml_data.iloc[:,1]"
   ]
  },
  {
   "cell_type": "markdown",
   "id": "1d5a5f12-82fc-4830-a255-4c7705407350",
   "metadata": {},
   "source": [
    "### Model Building\n",
    "    Since our dataset is labeled, It comes under Supervised. Also the labled data is discreat data. We are going to apply Clasification Algorithm.\n",
    "\n",
    "**Some of Popular  Clasification Algorithms are:**\n",
    "> - Logistic Regression\n",
    "> - Decision Trees\n",
    "> - Random Forest\n",
    "> - Support Vector Machine (SVM)\n",
    "> - k-Nearest Neighbors (k-NN)\n",
    "> - Naive Bayes\n",
    "> - Gradient Boosting Machines (GBM)\n",
    "> - AdaBoost\n",
    "> - XGBoost\n"
   ]
  },
  {
   "cell_type": "code",
   "execution_count": 243,
   "id": "b659d6ec-2b7b-496e-a012-3a21d5529c0b",
   "metadata": {},
   "outputs": [],
   "source": [
    "# It is used for saving and loading the model\n",
    "\n",
    "import pickle"
   ]
  },
  {
   "cell_type": "code",
   "execution_count": 244,
   "id": "f5cb740b-664d-4dbc-9137-e3d83c45621a",
   "metadata": {},
   "outputs": [],
   "source": [
    "# Data Spliting\n",
    "\n",
    "from sklearn.model_selection import train_test_split\n",
    "\n",
    "X_train,X_test,Y_train,Y_test = train_test_split(features,label,test_size=0.2,random_state=42)"
   ]
  },
  {
   "cell_type": "code",
   "execution_count": 245,
   "id": "d54151b8-71a5-4134-a6cd-51db63bd74c7",
   "metadata": {},
   "outputs": [],
   "source": [
    "bow = CountVectorizer(stop_words=\"english\",strip_accents=\"unicode\")\n",
    "X = bow.fit_transform(X_train)\n",
    "X = pd.DataFrame(X.toarray(),columns=bow.get_feature_names_out())\n",
    "Y = pd.DataFrame(Y_train).rename(columns={0:\"label\"}).reset_index(drop=True)"
   ]
  },
  {
   "cell_type": "markdown",
   "id": "e026f99b-54cc-4acd-8e31-b6fede0926be",
   "metadata": {},
   "source": [
    "### Logistic Regression"
   ]
  },
  {
   "cell_type": "code",
   "execution_count": 246,
   "id": "4aa87068-dbbb-4d1d-9cd4-cf38b02e1383",
   "metadata": {},
   "outputs": [],
   "source": [
    "from sklearn.linear_model import LogisticRegression\n",
    "\n",
    "LogisticReg = LogisticRegression()\n",
    "\n",
    "LogisticReg.fit(X,Y)\n",
    "\n",
    "# Save model\n",
    "\n",
    "with open(\"../Models/LogisticReg.pkl\",\"wb\") as file:\n",
    "    \n",
    "    pickle.dump(LogisticReg,file)"
   ]
  },
  {
   "cell_type": "markdown",
   "id": "011fab94-ebb7-4572-8505-baae84300b97",
   "metadata": {},
   "source": [
    "### Decision Trees"
   ]
  },
  {
   "cell_type": "code",
   "execution_count": 247,
   "id": "89b3625e-2f8e-4d61-b772-c72dbf1d37a9",
   "metadata": {},
   "outputs": [],
   "source": [
    "from sklearn.tree import DecisionTreeClassifier\n",
    "\n",
    "DTree = DecisionTreeClassifier()\n",
    "\n",
    "DTree.fit(X,Y)\n",
    "\n",
    "# Save model\n",
    "\n",
    "with open(\"../Models/DTree.pkl\",\"wb\") as file:\n",
    "    \n",
    "    pickle.dump(DTree,file)"
   ]
  },
  {
   "cell_type": "markdown",
   "id": "63d92024-0b67-4977-8792-758fd9f9f374",
   "metadata": {},
   "source": [
    "### Random Forest"
   ]
  },
  {
   "cell_type": "code",
   "execution_count": 248,
   "id": "6c3bcfa4-6031-4356-906d-745ce60f2360",
   "metadata": {},
   "outputs": [],
   "source": [
    "from sklearn.ensemble import RandomForestClassifier\n",
    "\n",
    "RandomForest = RandomForestClassifier()\n",
    "\n",
    "RandomForest.fit(X,Y)\n",
    "\n",
    "# Save model\n",
    "\n",
    "with open(\"../Models/RandomForest.pkl\",\"wb\") as file:\n",
    "    \n",
    "    pickle.dump(RandomForest,file)"
   ]
  },
  {
   "cell_type": "markdown",
   "id": "4000af64-322d-414b-993a-86f110e75b56",
   "metadata": {},
   "source": [
    "### Support Vector Machine (SVM)"
   ]
  },
  {
   "cell_type": "code",
   "execution_count": 249,
   "id": "5de5df85-3a4b-4818-ad86-3f16fd8750f0",
   "metadata": {},
   "outputs": [],
   "source": [
    "from sklearn.svm import LinearSVC\n",
    "\n",
    "SVC = LinearSVC()\n",
    "\n",
    "SVC.fit(X,Y)\n",
    "\n",
    "# Save model\n",
    "\n",
    "with open(\"../Models/SVM.pkl\",\"wb\") as file:\n",
    "    \n",
    "    pickle.dump(SVC,file)"
   ]
  },
  {
   "cell_type": "markdown",
   "id": "840ad301-0872-4da1-a87a-89529202cb72",
   "metadata": {},
   "source": [
    "### k-Nearest Neighbors (k-NN)"
   ]
  },
  {
   "cell_type": "code",
   "execution_count": 250,
   "id": "e839003c-6078-492d-b26d-3fa0b3870e14",
   "metadata": {},
   "outputs": [],
   "source": [
    "from sklearn.neighbors import KNeighborsClassifier\n",
    "\n",
    "KNN = KNeighborsClassifier()\n",
    "\n",
    "KNN.fit(X,Y)\n",
    "\n",
    "# Save model\n",
    "\n",
    "with open(\"../Models/KNN.pkl\",\"wb\") as file:\n",
    "    \n",
    "    pickle.dump(KNN,file)"
   ]
  },
  {
   "cell_type": "markdown",
   "id": "c7a11888-bbad-4d8b-be0a-1bafc88fb607",
   "metadata": {},
   "source": [
    "### Naive Bayes"
   ]
  },
  {
   "cell_type": "code",
   "execution_count": 251,
   "id": "f0550e79-c3e3-44cc-be6b-28605617347c",
   "metadata": {},
   "outputs": [],
   "source": [
    "from sklearn.naive_bayes import MultinomialNB\n",
    "from scipy.sparse import csr_matrix\n",
    "\n",
    "NaiveBayes = MultinomialNB()\n",
    "\n",
    "#X_train_tfidf = csr_matrix(X_train, dtype=np.float64)\n",
    "\n",
    "NaiveBayes.fit(X,Y)\n",
    "\n",
    "# Save model\n",
    "\n",
    "with open(\"../Models/NaiveBayes.pkl\",\"wb\") as file:\n",
    "    \n",
    "    pickle.dump(NaiveBayes,file)"
   ]
  },
  {
   "cell_type": "markdown",
   "id": "bdc6f6ad-568a-4f72-818f-c0cb4f4c5ffb",
   "metadata": {},
   "source": [
    "### Gradient Boosting Machines (GBM)"
   ]
  },
  {
   "cell_type": "code",
   "execution_count": 252,
   "id": "3a9a4ee4-16df-46cb-bfcd-bcd1aee3d501",
   "metadata": {},
   "outputs": [],
   "source": [
    "from sklearn.ensemble import GradientBoostingClassifier\n",
    "\n",
    "GBM = GradientBoostingClassifier()\n",
    "\n",
    "GBM.fit(X,Y)\n",
    "\n",
    "# Save model\n",
    "\n",
    "with open(\"../Models/GBM.pkl\",\"wb\") as file:\n",
    "    \n",
    "    pickle.dump(GBM,file)"
   ]
  },
  {
   "cell_type": "markdown",
   "id": "dda2132e-03ec-4749-b13c-7a00d4a3ea0b",
   "metadata": {},
   "source": [
    "### AdaBoost"
   ]
  },
  {
   "cell_type": "code",
   "execution_count": 253,
   "id": "f917af07-ade9-4fb6-941e-34f29f5c12b1",
   "metadata": {},
   "outputs": [],
   "source": [
    "from sklearn.ensemble import AdaBoostClassifier\n",
    "\n",
    "AdaBoost = AdaBoostClassifier()\n",
    "\n",
    "AdaBoost.fit(X,Y)\n",
    "\n",
    "# Save model\n",
    "\n",
    "with open(\"../Models/AdaBoost.pkl\",\"wb\") as file:\n",
    "    \n",
    "    pickle.dump(AdaBoost,file)"
   ]
  },
  {
   "cell_type": "markdown",
   "id": "5125b674-5318-469d-93e7-dd8b2a2f6557",
   "metadata": {},
   "source": [
    "### XGBoost"
   ]
  },
  {
   "cell_type": "code",
   "execution_count": 254,
   "id": "73d9ef2f-e3ba-465a-a6d1-f703771bae2c",
   "metadata": {},
   "outputs": [
    {
     "data": {
      "text/html": [
       "<div>\n",
       "<style scoped>\n",
       "    .dataframe tbody tr th:only-of-type {\n",
       "        vertical-align: middle;\n",
       "    }\n",
       "\n",
       "    .dataframe tbody tr th {\n",
       "        vertical-align: top;\n",
       "    }\n",
       "\n",
       "    .dataframe thead th {\n",
       "        text-align: right;\n",
       "    }\n",
       "</style>\n",
       "<table border=\"1\" class=\"dataframe\">\n",
       "  <thead>\n",
       "    <tr style=\"text-align: right;\">\n",
       "      <th></th>\n",
       "      <th>Category</th>\n",
       "    </tr>\n",
       "  </thead>\n",
       "  <tbody>\n",
       "    <tr>\n",
       "      <th>0</th>\n",
       "      <td>0</td>\n",
       "    </tr>\n",
       "    <tr>\n",
       "      <th>1</th>\n",
       "      <td>1</td>\n",
       "    </tr>\n",
       "    <tr>\n",
       "      <th>2</th>\n",
       "      <td>0</td>\n",
       "    </tr>\n",
       "    <tr>\n",
       "      <th>3</th>\n",
       "      <td>0</td>\n",
       "    </tr>\n",
       "    <tr>\n",
       "      <th>4</th>\n",
       "      <td>0</td>\n",
       "    </tr>\n",
       "    <tr>\n",
       "      <th>...</th>\n",
       "      <td>...</td>\n",
       "    </tr>\n",
       "    <tr>\n",
       "      <th>1020</th>\n",
       "      <td>1</td>\n",
       "    </tr>\n",
       "    <tr>\n",
       "      <th>1021</th>\n",
       "      <td>0</td>\n",
       "    </tr>\n",
       "    <tr>\n",
       "      <th>1022</th>\n",
       "      <td>1</td>\n",
       "    </tr>\n",
       "    <tr>\n",
       "      <th>1023</th>\n",
       "      <td>1</td>\n",
       "    </tr>\n",
       "    <tr>\n",
       "      <th>1024</th>\n",
       "      <td>1</td>\n",
       "    </tr>\n",
       "  </tbody>\n",
       "</table>\n",
       "<p>1025 rows × 1 columns</p>\n",
       "</div>"
      ],
      "text/plain": [
       "      Category\n",
       "0            0\n",
       "1            1\n",
       "2            0\n",
       "3            0\n",
       "4            0\n",
       "...        ...\n",
       "1020         1\n",
       "1021         0\n",
       "1022         1\n",
       "1023         1\n",
       "1024         1\n",
       "\n",
       "[1025 rows x 1 columns]"
      ]
     },
     "execution_count": 254,
     "metadata": {},
     "output_type": "execute_result"
    }
   ],
   "source": [
    "Y"
   ]
  },
  {
   "cell_type": "code",
   "execution_count": 255,
   "id": "22217e6d-1d22-4af5-bd6e-a263909be5a4",
   "metadata": {},
   "outputs": [],
   "source": [
    "import xgboost as xgb\n",
    "\n",
    "params = {\n",
    "    'objective': 'multi:softmax',  \n",
    "    'num_class': 2, \n",
    "    'max_depth': 2,  \n",
    "    'learning_rate': 0.1,  \n",
    "    'eval_metric': 'mlogloss'  \n",
    "}\n",
    "\n",
    "dtrain = xgb.DMatrix(X, label=Y)\n",
    "\n",
    "\n",
    "XGBoost = xgb.train(params, dtrain, num_boost_round=300)\n",
    "\n",
    "# Save model\n",
    "\n",
    "with open(\"../Models/XGBoost.pkl\",\"wb\") as file:\n",
    "    \n",
    "    pickle.dump(XGBoost,file)"
   ]
  },
  {
   "cell_type": "code",
   "execution_count": null,
   "id": "d46c3a34",
   "metadata": {},
   "outputs": [],
   "source": []
  },
  {
   "cell_type": "markdown",
   "id": "209c6306-3902-4625-9f4c-b025180fc62b",
   "metadata": {},
   "source": [
    "### Model Evaluation\n",
    "    For classifications there are specificevaluation techniques like:\n",
    "- Accuracy\n",
    "- Precision\n",
    "- F1 Score\n",
    "- Confusion Matrix\n",
    "- AUC & ROC"
   ]
  },
  {
   "cell_type": "code",
   "execution_count": 256,
   "id": "ade20ca3",
   "metadata": {},
   "outputs": [],
   "source": [
    "X_t = bow.transform(X_test).toarray()"
   ]
  },
  {
   "cell_type": "code",
   "execution_count": 257,
   "id": "e09dd425",
   "metadata": {},
   "outputs": [],
   "source": [
    "X_t = pd.DataFrame(X_t,columns=bow.get_feature_names_out())"
   ]
  },
  {
   "cell_type": "code",
   "execution_count": 258,
   "id": "85d22192-1fa6-4bd5-abf9-f0422ca6ddb2",
   "metadata": {},
   "outputs": [
    {
     "data": {
      "text/plain": [
       "'XGBoost.pkl'"
      ]
     },
     "execution_count": 258,
     "metadata": {},
     "output_type": "execute_result"
    }
   ],
   "source": [
    "files"
   ]
  },
  {
   "cell_type": "code",
   "execution_count": 259,
   "id": "13d50df8-1c0b-417d-9dfc-d3d812f5ce47",
   "metadata": {},
   "outputs": [],
   "source": [
    "import os\n",
    "from os import path \n",
    "import pickle\n",
    "models = {}\n",
    "\n",
    "# os.chdir(\"Models\")\n",
    "for files in os.listdir():\n",
    "    file = open(files,\"rb\")\n",
    "    name = files.split(\".\")[0]\n",
    "    models[name] = pickle.load(file)\n",
    "    file.close()"
   ]
  },
  {
   "cell_type": "code",
   "execution_count": 260,
   "id": "08a96221-1720-4470-bbe6-058e796d9816",
   "metadata": {},
   "outputs": [],
   "source": [
    "model_names = models.keys()"
   ]
  },
  {
   "cell_type": "code",
   "execution_count": 261,
   "id": "27d89ae9-c9e3-4221-adf1-f02aa28b5991",
   "metadata": {},
   "outputs": [],
   "source": [
    "from sklearn.metrics import accuracy_score\n",
    "import xgboost as xgb\n",
    "from scipy.sparse import csr_matrix\n",
    "\n",
    "\n",
    "accuracy = {}\n",
    "\n",
    "def predict(model_name):\n",
    "    if model_name == \"XGBoost\":\n",
    "            dtest = xgb.DMatrix(X_t, label=Y_test)\n",
    "            Y_pred = models[model_name].predict(dtest)\n",
    "            acc = accuracy_score(Y_test,Y_pred)\n",
    "            accuracy[model_name] = acc\n",
    "        \n",
    "    elif model_name == \"NaiveBayes\":\n",
    "        #     X_t_tfidf = csr_matrix(X_t, dtype=np.float64)\n",
    "            Y_pred = models[model_name].predict(X_t)\n",
    "            acc = accuracy_score(Y_test,Y_pred)\n",
    "            accuracy[model_name] = acc\n",
    "    else:\n",
    "        Y_pred = models[model_name].predict(X_t)\n",
    "        acc = accuracy_score(Y_test,Y_pred)\n",
    "        accuracy[model_name] = acc\n",
    "        "
   ]
  },
  {
   "cell_type": "code",
   "execution_count": 262,
   "id": "bbccd639",
   "metadata": {},
   "outputs": [
    {
     "data": {
      "text/plain": [
       "dict_keys(['AdaBoost', 'DTree', 'GBM', 'KNN', 'LogisticReg', 'NaiveBayes', 'RandomForest', 'SVM', 'XGBoost'])"
      ]
     },
     "execution_count": 262,
     "metadata": {},
     "output_type": "execute_result"
    }
   ],
   "source": [
    "model_names"
   ]
  },
  {
   "cell_type": "code",
   "execution_count": 263,
   "id": "638a3d6a-2601-4c6b-b277-9e2a51146ef2",
   "metadata": {},
   "outputs": [
    {
     "name": "stdout",
     "output_type": "stream",
     "text": [
      "AdaBoost\n",
      "DTree\n",
      "GBM\n",
      "KNN\n",
      "LogisticReg\n",
      "NaiveBayes\n",
      "RandomForest\n",
      "SVM\n",
      "XGBoost\n",
      "Done\n"
     ]
    }
   ],
   "source": [
    "accuracy = {}\n",
    "for name in model_names:\n",
    "    print(name)\n",
    "    predict(name)\n",
    "print(\"Done\")\n",
    "    "
   ]
  },
  {
   "cell_type": "code",
   "execution_count": 264,
   "id": "3e08168f",
   "metadata": {},
   "outputs": [
    {
     "data": {
      "text/plain": [
       "{'AdaBoost': 0.9260700389105059,\n",
       " 'DTree': 0.914396887159533,\n",
       " 'GBM': 0.8988326848249028,\n",
       " 'KNN': 0.6770428015564203,\n",
       " 'LogisticReg': 0.9377431906614786,\n",
       " 'NaiveBayes': 0.9182879377431906,\n",
       " 'RandomForest': 0.933852140077821,\n",
       " 'SVM': 0.9494163424124513,\n",
       " 'XGBoost': 0.9260700389105059}"
      ]
     },
     "execution_count": 264,
     "metadata": {},
     "output_type": "execute_result"
    }
   ],
   "source": [
    "accuracy_test = accuracy\n",
    "accuracy_test"
   ]
  },
  {
   "cell_type": "markdown",
   "id": "f73dfd3f-9701-47e1-9cc7-a8d0a644ae46",
   "metadata": {},
   "source": [
    "### Model Deployment"
   ]
  },
  {
   "cell_type": "code",
   "execution_count": 268,
   "id": "4de38eee-b51d-4b37-9977-7a47a215460f",
   "metadata": {},
   "outputs": [],
   "source": [
    "\n",
    "features = ml_data.iloc[:,1]\n",
    "\n",
    "label = ml_data.iloc[:,0]\n",
    "\n",
    "bow = CountVectorizer(stop_words=\"english\",strip_accents=\"unicode\")\n",
    "\n",
    "XX = bow.fit_transform(data.iloc[:,1])\n",
    "\n",
    "XX = pd.DataFrame(XX.toarray(),columns=bow.get_feature_names_out())\n",
    "\n",
    "\n",
    "\n",
    "model = LinearSVC()\n",
    "\n",
    "\n",
    "\n",
    "model.fit(XX,data.iloc[:,0])\n",
    "\n",
    "# Save Transformation\n",
    "os.mkdir(\"Diployment\")\n",
    "\n",
    "with open(\"Diployment/transformer.pkl\",\"wb\") as file:\n",
    "    \n",
    "    pickle.dump(bow,file)\n",
    "\n",
    "# Save model\n",
    "\n",
    "with open(\"Diployment/model.pkl\",\"wb\") as file:\n",
    "    \n",
    "    pickle.dump(model,file)"
   ]
  },
  {
   "cell_type": "code",
   "execution_count": 269,
   "id": "bddc5992-6e0e-40e2-96b3-11329e0ae65b",
   "metadata": {},
   "outputs": [
    {
     "name": "stdout",
     "output_type": "stream",
     "text": [
      "| --------------------------------------------------------------------------- |\n",
      "|                            Model Accuracy is 1.0                            |\n",
      "| --------------------------------------------------------------------------- |\n"
     ]
    }
   ],
   "source": [
    "from sklearn.metrics import accuracy_score\n",
    "\n",
    "Y_pred = model.predict(XX)\n",
    "\n",
    "print(\"|\",\"-\"*75,\"|\")\n",
    "print(\"|\",str(\"Model Accuracy is \"+str(accuracy_score(data.iloc[:,0], Y_pred))).center(75),\"|\")\n",
    "print(\"|\",\"-\"*75,\"|\")"
   ]
  },
  {
   "cell_type": "markdown",
   "id": "eb81b223-3b5e-4494-868e-e0e0084280af",
   "metadata": {},
   "source": [
    "## The model will be deployed in Streamlit applycation"
   ]
  }
 ],
 "metadata": {
  "kernelspec": {
   "display_name": "Python 3 (ipykernel)",
   "language": "python",
   "name": "python3"
  },
  "language_info": {
   "codemirror_mode": {
    "name": "ipython",
    "version": 3
   },
   "file_extension": ".py",
   "mimetype": "text/x-python",
   "name": "python",
   "nbconvert_exporter": "python",
   "pygments_lexer": "ipython3",
   "version": "3.12.2"
  }
 },
 "nbformat": 4,
 "nbformat_minor": 5
}
